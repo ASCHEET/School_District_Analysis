{
 "cells": [
  {
   "cell_type": "code",
   "execution_count": 1,
   "id": "59adb37e",
   "metadata": {},
   "outputs": [],
   "source": [
    "# define a function \"say hello\" so it prints \"Hello!\" when called\n",
    "def say_hello():\n",
    "    print(\"Hello!\")"
   ]
  },
  {
   "cell_type": "code",
   "execution_count": 2,
   "id": "fbd6a2bc",
   "metadata": {},
   "outputs": [
    {
     "name": "stdout",
     "output_type": "stream",
     "text": [
      "Hello!\n"
     ]
    }
   ],
   "source": [
    "say_hello()"
   ]
  },
  {
   "cell_type": "code",
   "execution_count": 7,
   "id": "c31994cc",
   "metadata": {},
   "outputs": [],
   "source": [
    "passing_math_count = 29370\n",
    "total_student_count = 39170"
   ]
  },
  {
   "cell_type": "code",
   "execution_count": 9,
   "id": "3174666c",
   "metadata": {},
   "outputs": [],
   "source": [
    "def passing_math_percent(passing_math_count, total_student_count):\n",
    "    return passing_math_count / float(total_student_count) * 100"
   ]
  },
  {
   "cell_type": "code",
   "execution_count": 10,
   "id": "43001a4e",
   "metadata": {},
   "outputs": [
    {
     "data": {
      "text/plain": [
       "74.9808526933878"
      ]
     },
     "execution_count": 10,
     "metadata": {},
     "output_type": "execute_result"
    }
   ],
   "source": [
    "passing_math_percent(passing_math_count, total_student_count)"
   ]
  },
  {
   "cell_type": "code",
   "execution_count": 11,
   "id": "0e64d252",
   "metadata": {},
   "outputs": [],
   "source": [
    "# a list of my grades\n",
    "my_grades = ['B', 'C', 'B', 'D']"
   ]
  },
  {
   "cell_type": "code",
   "execution_count": 12,
   "id": "52bacdd3",
   "metadata": {},
   "outputs": [
    {
     "data": {
      "text/plain": [
       "0    B\n",
       "1    C\n",
       "2    B\n",
       "3    D\n",
       "dtype: object"
      ]
     },
     "execution_count": 12,
     "metadata": {},
     "output_type": "execute_result"
    }
   ],
   "source": [
    "import pandas as pd\n",
    "# convert the my_grades to a series\n",
    "my_grades = pd.Series(my_grades)\n",
    "my_grades"
   ]
  },
  {
   "cell_type": "code",
   "execution_count": 13,
   "id": "8032b462",
   "metadata": {},
   "outputs": [
    {
     "data": {
      "text/plain": [
       "0    A\n",
       "1    B\n",
       "2    A\n",
       "3    C\n",
       "dtype: object"
      ]
     },
     "execution_count": 13,
     "metadata": {},
     "output_type": "execute_result"
    }
   ],
   "source": [
    "my_grades.map({'B': 'A', 'C': 'B', 'D': 'C'})"
   ]
  },
  {
   "cell_type": "code",
   "execution_count": 19,
   "id": "eec611c6",
   "metadata": {},
   "outputs": [
    {
     "name": "stdout",
     "output_type": "stream",
     "text": [
      "92\n",
      "85\n",
      "87\n",
      "78\n"
     ]
    }
   ],
   "source": [
    "# using the format function\n",
    "my_grades = pd.Series([92.34, 84.56, 86.78, 78.32])\n",
    "\n",
    "for grade in my_grades:\n",
    "    print(\"{:.0f}\".format(grade))"
   ]
  },
  {
   "cell_type": "code",
   "execution_count": 20,
   "id": "8fb39b1e",
   "metadata": {},
   "outputs": [
    {
     "data": {
      "text/plain": [
       "0    92\n",
       "1    85\n",
       "2    87\n",
       "3    78\n",
       "dtype: object"
      ]
     },
     "execution_count": 20,
     "metadata": {},
     "output_type": "execute_result"
    }
   ],
   "source": [
    "my_grades.map(\"{:.0f}\".format)"
   ]
  },
  {
   "cell_type": "code",
   "execution_count": null,
   "id": "a0dbdc5e",
   "metadata": {},
   "outputs": [],
   "source": []
  }
 ],
 "metadata": {
  "kernelspec": {
   "display_name": "PythonData",
   "language": "python",
   "name": "pythondata"
  },
  "language_info": {
   "codemirror_mode": {
    "name": "ipython",
    "version": 3
   },
   "file_extension": ".py",
   "mimetype": "text/x-python",
   "name": "python",
   "nbconvert_exporter": "python",
   "pygments_lexer": "ipython3",
   "version": "3.7.10"
  }
 },
 "nbformat": 4,
 "nbformat_minor": 5
}
