{
 "cells": [
  {
   "cell_type": "code",
   "execution_count": null,
   "id": "95b550ec",
   "metadata": {},
   "outputs": [],
   "source": [
    "# 4.5.1 Find missing values\n",
    "import panda as pd\n",
    "import os"
   ]
  },
  {
   "cell_type": "code",
   "execution_count": null,
   "id": "0ef3b0b9",
   "metadata": {},
   "outputs": [],
   "source": [
    "# Determine if there is any missing values in school data\n",
    "school"
   ]
  }
 ],
 "metadata": {
  "kernelspec": {
   "display_name": "PythonData",
   "language": "python",
   "name": "pythondata"
  },
  "language_info": {
   "codemirror_mode": {
    "name": "ipython",
    "version": 3
   },
   "file_extension": ".py",
   "mimetype": "text/x-python",
   "name": "python",
   "nbconvert_exporter": "python",
   "pygments_lexer": "ipython3",
   "version": "3.7.10"
  }
 },
 "nbformat": 4,
 "nbformat_minor": 5
}
